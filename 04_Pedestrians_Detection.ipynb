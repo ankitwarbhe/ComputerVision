{
 "cells": [
  {
   "cell_type": "markdown",
   "metadata": {},
   "source": [
    "### Import Libraries"
   ]
  },
  {
   "cell_type": "code",
   "execution_count": 28,
   "metadata": {},
   "outputs": [],
   "source": [
    "import cv2\n",
    "import numpy as np "
   ]
  },
  {
   "cell_type": "markdown",
   "metadata": {},
   "source": [
    "### Create Classifier"
   ]
  },
  {
   "cell_type": "code",
   "execution_count": 29,
   "metadata": {},
   "outputs": [],
   "source": [
    "body_classifier=cv2.CascadeClassifier(\"Haarcascades/haarcascade_fullbody.xml\")"
   ]
  },
  {
   "cell_type": "markdown",
   "metadata": {},
   "source": [
    "### Capture Video"
   ]
  },
  {
   "cell_type": "code",
   "execution_count": 30,
   "metadata": {},
   "outputs": [],
   "source": [
    "cap=cv2.VideoCapture(\"Video/videoplayback.mp4\")"
   ]
  },
  {
   "cell_type": "markdown",
   "metadata": {},
   "source": [
    "### It's a Kind of Magic"
   ]
  },
  {
   "cell_type": "code",
   "execution_count": 31,
   "metadata": {},
   "outputs": [],
   "source": [
    "# While Loop\n",
    "while cap.isOpened():\n",
    "\n",
    "\n",
    "    # Read the capture\n",
    "    ret, frame = cap.read()\n",
    "    \n",
    "    # Pass the Frame to the Classifier\n",
    "    bodies=body_classifier.detectMultiScale(frame,1.2,3)\n",
    "    \n",
    "    \n",
    "    # if Statement\n",
    "    if ret == True:\n",
    "    \n",
    "        # Bound Boxes to Identified Bodies\n",
    "        for (x,y,w,h) in bodies:\n",
    "            cv2.rectangle(frame,\n",
    "                         (x,y),\n",
    "                         (x+w,y+h),\n",
    "                         (25,125,225),\n",
    "                         5)\n",
    "            cv2.imshow(\"pedestrian\",frame)\n",
    "        \n",
    "        # Exit with Esc button\n",
    "        if cv2.waitKey(1)==27:\n",
    "            break\n",
    "        \n",
    "        \n",
    "    # else Statement\n",
    "    else:\n",
    "        break\n",
    "    \n",
    "# Release the Capture & Destroy All Windows\n",
    "cap.release()\n",
    "cv2.destroyAllWindows()\n",
    "\n",
    "\n"
   ]
  },
  {
   "cell_type": "code",
   "execution_count": null,
   "metadata": {},
   "outputs": [],
   "source": []
  }
 ],
 "metadata": {
  "kernelspec": {
   "display_name": "Python 3",
   "language": "python",
   "name": "python3"
  },
  "language_info": {
   "codemirror_mode": {
    "name": "ipython",
    "version": 3
   },
   "file_extension": ".py",
   "mimetype": "text/x-python",
   "name": "python",
   "nbconvert_exporter": "python",
   "pygments_lexer": "ipython3",
   "version": "3.7.4"
  }
 },
 "nbformat": 4,
 "nbformat_minor": 2
}
