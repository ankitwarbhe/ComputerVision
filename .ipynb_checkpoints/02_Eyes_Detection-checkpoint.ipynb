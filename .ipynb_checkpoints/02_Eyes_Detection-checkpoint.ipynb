{
 "cells": [
  {
   "cell_type": "code",
   "execution_count": 25,
   "metadata": {},
   "outputs": [],
   "source": [
    "import cv2\n",
    "import numpy as np\n",
    "import matplotlib.pyplot as plt\n",
    "\n",
    "%matplotlib inline"
   ]
  },
  {
   "cell_type": "code",
   "execution_count": 26,
   "metadata": {},
   "outputs": [],
   "source": [
    "# function to detect face and later find a pair of eyes in it\n",
    "def detectEyes(imageFile, cascadeFile1, cascadeFile2):\n",
    "    image = cv2.imread(imageFile) # reading the picture\n",
    "    imageCopy = image.copy() \n",
    "    gray = cv2.cvtColor(image, cv2.COLOR_BGR2GRAY) #converting the picture to grayscale\n",
    "    haarCascade_face = cv2.CascadeClassifier(cascadeFile1)\n",
    "    haarCascade_eyes = cv2.CascadeClassifier(cascadeFile2)\n",
    "    detectedObjects = haarCascade_face.detectMultiScale(gray, 1.2, 9)\n",
    "    \n",
    "    #drawing bounding box which covers the face\n",
    "    for bbox in detectedObjects:\n",
    "        x, y, w, h = bbox\n",
    "        \n",
    "        #cv2.rectangle(image, (x,y), (x+w, y+h), (0,0,255), 3)\n",
    "        #Uncomment the above line if you want to plot the bounding box for faces\n",
    "        \n",
    "        # cropping the face to further detect the face\n",
    "        crop = gray[y:y+h, x:x+w]\n",
    "        imgCrop = imageCopy[y:y+h, x:x+h]\n",
    "        cv2.imwrite('Images/crop.png',imgCrop)\n",
    "        \n",
    "        #Detecting eyes with the help of previously cropped face\n",
    "        cropDetectedObjects = haarCascade_eyes.detectMultiScale(crop, 1.2, 4)\n",
    "        for bbox2 in cropDetectedObjects:\n",
    "            X, Y, W, H = bbox2\n",
    "            cv2.rectangle(image, (x+X,y+Y),(x+X+W, y+Y+H), (255,0,0), 3)\n",
    "    \n",
    "    # Final result\n",
    "    cv2.imshow(\"Object Detection\", image)\n",
    "    cv2.waitKey(0)\n",
    "    cv2.imwrite(\"eyes-combined-result.png\",image)\n",
    "    cv2.destroyAllWindows()\n",
    "    \n",
    "    # Return the bounding boxes\n",
    "    return detectedObjects"
   ]
  },
  {
   "cell_type": "code",
   "execution_count": 27,
   "metadata": {},
   "outputs": [],
   "source": [
    "imgPath = \"Images/eye_face.jpg\""
   ]
  },
  {
   "cell_type": "code",
   "execution_count": 28,
   "metadata": {
    "scrolled": true
   },
   "outputs": [],
   "source": [
    "result  = detectEyes(imgPath,\"Haarcascades/haarcascade_frontalface_default.xml\",\"Haarcascades/haarcascade_eye.xml\");"
   ]
  },
  {
   "cell_type": "code",
   "execution_count": null,
   "metadata": {},
   "outputs": [],
   "source": []
  }
 ],
 "metadata": {
  "celltoolbar": "Raw Cell Format",
  "kernelspec": {
   "display_name": "Python 3",
   "language": "python",
   "name": "python3"
  },
  "language_info": {
   "codemirror_mode": {
    "name": "ipython",
    "version": 3
   },
   "file_extension": ".py",
   "mimetype": "text/x-python",
   "name": "python",
   "nbconvert_exporter": "python",
   "pygments_lexer": "ipython3",
   "version": "3.8.3"
  }
 },
 "nbformat": 4,
 "nbformat_minor": 2
}
